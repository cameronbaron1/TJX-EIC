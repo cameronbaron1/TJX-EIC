{
 "cells": [
  {
   "cell_type": "code",
   "execution_count": 15,
   "id": "ed3837e2",
   "metadata": {},
   "outputs": [],
   "source": [
    "import pandas as pd\n",
    "import numpy as np\n",
    "import matplotlib.pyplot as plt\n",
    "import seaborn as sns\n",
    "from datetime import datetime, timedelta\n",
    "import warnings\n",
    "warnings.filterwarnings('ignore')"
   ]
  },
  {
   "cell_type": "code",
   "execution_count": 16,
   "id": "641a73d5",
   "metadata": {},
   "outputs": [],
   "source": [
    "pd.set_option('display.max_columns', None)\n",
    "pd.set_option('display.max_rows', 100)\n",
    "pd.set_option('display.float_format', '{:.2f}'.format)\n",
    "plt.style.use('seaborn-v0_8-darkgrid')\n",
    "sns.set_palette('husl')"
   ]
  },
  {
   "cell_type": "code",
   "execution_count": 17,
   "id": "45103e25",
   "metadata": {},
   "outputs": [],
   "source": [
    "customers = pd.read_csv('customers.csv')\n",
    "campaigns = pd.read_csv('marketing_campaigns.csv')\n",
    "spend = pd.read_csv('marketing_spend.csv')\n",
    "transactions = pd.read_csv('transactions.csv')"
   ]
  },
  {
   "cell_type": "code",
   "execution_count": 18,
   "id": "a797419f",
   "metadata": {},
   "outputs": [
    {
     "name": "stdout",
     "output_type": "stream",
     "text": [
      "Data Shapes:\n",
      "\n",
      "customers: (31, 13)\n",
      "campaigns: (30, 10)\n",
      "spend: (30, 9)\n",
      "transactions: (45, 16)\n"
     ]
    }
   ],
   "source": [
    "print('Data Shapes:\\n')\n",
    "print(f'customers: {customers.shape}')\n",
    "print(f'campaigns: {campaigns.shape}')\n",
    "print(f'spend: {spend.shape}')\n",
    "print(f'transactions: {transactions.shape}')"
   ]
  },
  {
   "cell_type": "code",
   "execution_count": 19,
   "id": "afc54e16",
   "metadata": {},
   "outputs": [
    {
     "name": "stdout",
     "output_type": "stream",
     "text": [
      "Missing Values:\n",
      "customers:\n",
      "  No missing values\n",
      "\n",
      "campaigns:\n",
      "  No missing values\n",
      "\n",
      "spend:\n",
      "  No missing values\n",
      "\n",
      "transactions:\n",
      "store_id           29\n",
      "card_bank          41\n",
      "shipping_amount     3\n",
      "promo_code_used    26\n",
      "device_type        16\n",
      "\n"
     ]
    }
   ],
   "source": [
    "# Print each dataset name; list per-column missing counts only when >0\n",
    "missings = {\n",
    "    'customers': customers.isnull().sum(),\n",
    "    'campaigns': campaigns.isnull().sum(),\n",
    "    'spend': spend.isnull().sum(),\n",
    "    'transactions': transactions.isnull().sum()\n",
    "}\n",
    "print('Missing Values:')\n",
    "for name, series in missings.items():\n",
    "    # series is a Series of per-column null counts\n",
    "    nonzero = series[series > 0]\n",
    "    print(f'{name}:')\n",
    "    if nonzero.any():\n",
    "        print(nonzero.to_string())\n",
    "    else:\n",
    "        print('  No missing values')\n",
    "    print()"
   ]
  },
  {
   "cell_type": "code",
   "execution_count": 20,
   "id": "bc9f5ef9",
   "metadata": {},
   "outputs": [],
   "source": [
    "transactions = transactions.drop(columns = ['card_bank'])"
   ]
  },
  {
   "cell_type": "code",
   "execution_count": 21,
   "id": "a7a3e17a",
   "metadata": {},
   "outputs": [],
   "source": [
    "transactions['shipping_amount'] = transactions['shipping_amount'].fillna(transactions['shipping_amount'].mean())\n",
    "transactions['promo_code_used'] = transactions['promo_code_used'].fillna('NoPromo')\n",
    "transactions['store_id'] = transactions['store_id'].fillna('OnlinePurchase')\n",
    "transactions['device_type'] = transactions['device_type'].fillna('InStore')"
   ]
  },
  {
   "cell_type": "code",
   "execution_count": 22,
   "id": "37e87c0c",
   "metadata": {},
   "outputs": [
    {
     "name": "stdout",
     "output_type": "stream",
     "text": [
      "Missing Values:\n",
      "customers:\n",
      "  No missing values\n",
      "\n",
      "campaigns:\n",
      "  No missing values\n",
      "\n",
      "spend:\n",
      "  No missing values\n",
      "\n",
      "transactions:\n",
      "  No missing values\n",
      "\n"
     ]
    }
   ],
   "source": [
    "# Print each dataset name; list per-column missing counts only when >0\n",
    "missings = {\n",
    "    'customers': customers.isnull().sum(),\n",
    "    'campaigns': campaigns.isnull().sum(),\n",
    "    'spend': spend.isnull().sum(),\n",
    "    'transactions': transactions.isnull().sum()\n",
    "}\n",
    "print('Missing Values:')\n",
    "for name, series in missings.items():\n",
    "    # series is a Series of per-column null counts\n",
    "    nonzero = series[series > 0]\n",
    "    print(f'{name}:')\n",
    "    if nonzero.any():\n",
    "        print(nonzero.to_string())\n",
    "    else:\n",
    "        print('  No missing values')\n",
    "    print()"
   ]
  },
  {
   "cell_type": "code",
   "execution_count": 23,
   "id": "6b156132",
   "metadata": {},
   "outputs": [
    {
     "name": "stdout",
     "output_type": "stream",
     "text": [
      "customers:\n",
      "    customer_id first_name last_name             email     city state  age  \\\n",
      "30         1030       Eric     Young  eric.y@email.com  Houston    TX   46   \n",
      "\n",
      "   gender customer_segment acquisition_date acquisition_channel  \\\n",
      "30      M          Dormant          12/1/20               Email   \n",
      "\n",
      "    lifetime_value churn_risk  \n",
      "30          267.90       High  \n",
      "\n",
      "campaigns:\n",
      "  No duplicate rows\n",
      "\n",
      "spend:\n",
      "  No duplicate rows\n",
      "\n",
      "transactions:\n",
      "  No duplicate rows\n",
      "\n"
     ]
    }
   ],
   "source": [
    "# Check for duplicated rows in each DataFrame and print a short message if none found\n",
    "datasets = {\n",
    "    'customers': customers,\n",
    "    'campaigns': campaigns,\n",
    "    'spend': spend,\n",
    "    'transactions': transactions\n",
    "}\n",
    "for name, df in datasets.items():\n",
    "    dup = df.loc[df.duplicated()]\n",
    "    print(f'{name}:')\n",
    "    if dup.empty:\n",
    "        print('  No duplicate rows')\n",
    "    else:\n",
    "        print(dup)\n",
    "    print()"
   ]
  },
  {
   "cell_type": "code",
   "execution_count": 24,
   "id": "1cf6ca9e",
   "metadata": {},
   "outputs": [],
   "source": [
    "customers.drop_duplicates(keep = 'first', inplace = True) "
   ]
  },
  {
   "cell_type": "code",
   "execution_count": 25,
   "id": "9567b841",
   "metadata": {},
   "outputs": [
    {
     "name": "stdout",
     "output_type": "stream",
     "text": [
      "customers:\n",
      "  No duplicate rows\n",
      "\n",
      "campaigns:\n",
      "  No duplicate rows\n",
      "\n",
      "spend:\n",
      "  No duplicate rows\n",
      "\n",
      "transactions:\n",
      "  No duplicate rows\n",
      "\n"
     ]
    }
   ],
   "source": [
    "#confirm dropped duplicates\n",
    "datasets = {\n",
    "    'customers': customers,\n",
    "    'campaigns': campaigns,\n",
    "    'spend': spend,\n",
    "    'transactions': transactions\n",
    "}\n",
    "\n",
    "for name, df in datasets.items():\n",
    "    dup = df.loc[df.duplicated()]\n",
    "    print(f'{name}:')\n",
    "    if dup.empty:\n",
    "        print('  No duplicate rows')\n",
    "    else:\n",
    "        print(dup)\n",
    "    print()"
   ]
  },
  {
   "cell_type": "code",
   "execution_count": 26,
   "id": "a5b6528d",
   "metadata": {},
   "outputs": [
    {
     "name": "stdout",
     "output_type": "stream",
     "text": [
      "Data Shapes:\n",
      "\n",
      "customers: (30, 13)\n",
      "campaigns: (30, 10)\n",
      "spend: (30, 9)\n",
      "transactions: (45, 15)\n"
     ]
    }
   ],
   "source": [
    "print('Data Shapes:\\n')\n",
    "print(f'customers: {customers.shape}')\n",
    "print(f'campaigns: {campaigns.shape}')\n",
    "print(f'spend: {spend.shape}')\n",
    "print(f'transactions: {transactions.shape}')"
   ]
  },
  {
   "cell_type": "code",
   "execution_count": null,
   "id": "3ff025f0",
   "metadata": {},
   "outputs": [
    {
     "name": "stdout",
     "output_type": "stream",
     "text": [
      "Customers DataFrame:\n",
      "<class 'pandas.core.frame.DataFrame'>\n",
      "Index: 30 entries, 0 to 29\n",
      "Data columns (total 13 columns):\n",
      " #   Column               Non-Null Count  Dtype  \n",
      "---  ------               --------------  -----  \n",
      " 0   customer_id          30 non-null     int64  \n",
      " 1   first_name           30 non-null     object \n",
      " 2   last_name            30 non-null     object \n",
      " 3   email                30 non-null     object \n",
      " 4   city                 30 non-null     object \n",
      " 5   state                30 non-null     object \n",
      " 6   age                  30 non-null     int64  \n",
      " 7   gender               30 non-null     object \n",
      " 8   customer_segment     30 non-null     object \n",
      " 9   acquisition_date     30 non-null     object \n",
      " 10  acquisition_channel  30 non-null     object \n",
      " 11  lifetime_value       30 non-null     float64\n",
      " 12  churn_risk           30 non-null     object \n",
      "dtypes: float64(1), int64(2), object(10)\n",
      "memory usage: 3.3+ KB\n"
     ]
    }
   ],
   "source": [
    "print('Customers DataFrame:')\n",
    "customers.info()\n",
    "customers['acquisition_date'] = pd.to_datetime(customers['acquisition_date'], format='%Y-%m-%d')"
   ]
  },
  {
   "cell_type": "code",
   "execution_count": 32,
   "id": "2095a553",
   "metadata": {},
   "outputs": [
    {
     "name": "stdout",
     "output_type": "stream",
     "text": [
      "\n",
      "Campaigns DataFrame:\n",
      "<class 'pandas.core.frame.DataFrame'>\n",
      "RangeIndex: 30 entries, 0 to 29\n",
      "Data columns (total 10 columns):\n",
      " #   Column           Non-Null Count  Dtype \n",
      "---  ------           --------------  ----- \n",
      " 0   campaign_id      30 non-null     int64 \n",
      " 1   campaign_name    30 non-null     object\n",
      " 2   campaign_type    30 non-null     object\n",
      " 3   channel          30 non-null     object\n",
      " 4   start_date       30 non-null     object\n",
      " 5   end_date         30 non-null     object\n",
      " 6   budget           30 non-null     int64 \n",
      " 7   target_audience  30 non-null     object\n",
      " 8   campaign_goal    30 non-null     object\n",
      " 9   status           30 non-null     object\n",
      "dtypes: int64(2), object(8)\n",
      "memory usage: 2.5+ KB\n"
     ]
    }
   ],
   "source": [
    "print('\\nCampaigns DataFrame:')\n",
    "campaigns.info()"
   ]
  },
  {
   "cell_type": "code",
   "execution_count": 33,
   "id": "1b859a21",
   "metadata": {},
   "outputs": [
    {
     "name": "stdout",
     "output_type": "stream",
     "text": [
      "\n",
      "Spend DataFrame:\n",
      "<class 'pandas.core.frame.DataFrame'>\n",
      "RangeIndex: 30 entries, 0 to 29\n",
      "Data columns (total 9 columns):\n",
      " #   Column              Non-Null Count  Dtype  \n",
      "---  ------              --------------  -----  \n",
      " 0   spend_id            30 non-null     int64  \n",
      " 1   campaign_id         30 non-null     int64  \n",
      " 2   spend_date          30 non-null     object \n",
      " 3   channel             30 non-null     object \n",
      " 4   impressions         30 non-null     int64  \n",
      " 5   clicks              30 non-null     int64  \n",
      " 6   spend_amount        30 non-null     float64\n",
      " 7   conversions         30 non-null     int64  \n",
      " 8   revenue_attributed  30 non-null     float64\n",
      "dtypes: float64(2), int64(5), object(2)\n",
      "memory usage: 2.2+ KB\n"
     ]
    }
   ],
   "source": [
    "print('\\nSpend DataFrame:')\n",
    "spend.info()"
   ]
  },
  {
   "cell_type": "code",
   "execution_count": 34,
   "id": "8a1bbece",
   "metadata": {},
   "outputs": [
    {
     "name": "stdout",
     "output_type": "stream",
     "text": [
      "\n",
      "Transactions DataFrame:\n",
      "<class 'pandas.core.frame.DataFrame'>\n",
      "RangeIndex: 45 entries, 0 to 44\n",
      "Data columns (total 15 columns):\n",
      " #   Column              Non-Null Count  Dtype  \n",
      "---  ------              --------------  -----  \n",
      " 0   transaction_id      45 non-null     int64  \n",
      " 1   customer_id         45 non-null     int64  \n",
      " 2   order_date          45 non-null     object \n",
      " 3   channel             45 non-null     object \n",
      " 4   store_id            45 non-null     object \n",
      " 5   payment_method      45 non-null     object \n",
      " 6   subtotal            45 non-null     float64\n",
      " 7   discount_amount     45 non-null     float64\n",
      " 8   tax_amount          45 non-null     float64\n",
      " 9   shipping_amount     45 non-null     float64\n",
      " 10  total_amount        45 non-null     float64\n",
      " 11  promo_code_used     45 non-null     object \n",
      " 12  device_type         45 non-null     object \n",
      " 13  fulfillment_method  45 non-null     object \n",
      " 14  return_flag         45 non-null     bool   \n",
      "dtypes: bool(1), float64(5), int64(2), object(7)\n",
      "memory usage: 5.1+ KB\n"
     ]
    }
   ],
   "source": [
    "print('\\nTransactions DataFrame:')\n",
    "transactions.info()"
   ]
  },
  {
   "cell_type": "code",
   "execution_count": null,
   "id": "6f49e1a5",
   "metadata": {},
   "outputs": [],
   "source": []
  }
 ],
 "metadata": {
  "kernelspec": {
   "display_name": "Python 3",
   "language": "python",
   "name": "python3"
  },
  "language_info": {
   "codemirror_mode": {
    "name": "ipython",
    "version": 3
   },
   "file_extension": ".py",
   "mimetype": "text/x-python",
   "name": "python",
   "nbconvert_exporter": "python",
   "pygments_lexer": "ipython3",
   "version": "3.13.7"
  }
 },
 "nbformat": 4,
 "nbformat_minor": 5
}
